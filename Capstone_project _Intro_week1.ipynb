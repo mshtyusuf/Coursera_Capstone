{
 "cells": [
  {
   "cell_type": "markdown",
   "metadata": {},
   "source": [
    "##  Capstone Project "
   ]
  },
  {
   "cell_type": "markdown",
   "metadata": {},
   "source": [
    "#### 1- Introduction and Business Understanding \n",
    "\n",
    "**In this project we will look for the price range for a new restaurant.** We are going to check the **food venues** in the center of the major cities of **Morocco**, and build a model on their foursquare data. We will use their rating, food type and position of the city and within the city to create a model that will predict the best price range for your new restaurant in this area."
   ]
  },
  {
   "cell_type": "markdown",
   "metadata": {},
   "source": [
    "#### 2- Data sources"
   ]
  },
  {
   "cell_type": "markdown",
   "metadata": {},
   "source": [
    "##### Moroccan cities data\n",
    "\n",
    "The table of the major Moroccan cities is imported from wikipedia https://en.wikipedia.org/wiki/List_of_cities_in_Morocco, then sorted, polished and finally all the city with more than 200.000 inhabitants are selected."
   ]
  },
  {
   "cell_type": "markdown",
   "metadata": {},
   "source": [
    "##### Food Venues Data Imported from Foursquare\n",
    "\n",
    "With this function we are going to import the 33 food venues closest to the center of the city. Unfortunately we cannot put up the maximum number possible (50) for limit in foursquare accout premium calls (500 max per day)."
   ]
  }
 ],
 "metadata": {
  "kernelspec": {
   "display_name": "Python 3",
   "language": "python",
   "name": "python3"
  },
  "language_info": {
   "codemirror_mode": {
    "name": "ipython",
    "version": 3
   },
   "file_extension": ".py",
   "mimetype": "text/x-python",
   "name": "python",
   "nbconvert_exporter": "python",
   "pygments_lexer": "ipython3",
   "version": "3.6.4"
  }
 },
 "nbformat": 4,
 "nbformat_minor": 2
}
